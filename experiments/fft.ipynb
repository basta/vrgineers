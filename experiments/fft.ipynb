{
 "cells": [
  {
   "cell_type": "code",
   "execution_count": 1,
   "id": "initial_id",
   "metadata": {
    "ExecuteTime": {
     "end_time": "2023-09-22T14:21:34.854083377Z",
     "start_time": "2023-09-22T14:21:32.696467292Z"
    },
    "collapsed": true
   },
   "outputs": [
    {
     "data": {
      "application/vnd.jupyter.widget-view+json": {
       "model_id": "3b99d8cbbd1943b091dfda3089097d21",
       "version_major": 2,
       "version_minor": 0
      },
      "text/plain": [
       "  0%|          | 0/448 [00:00<?, ?it/s]"
      ]
     },
     "metadata": {},
     "output_type": "display_data"
    },
    {
     "data": {
      "application/vnd.jupyter.widget-view+json": {
       "model_id": "64355211742f4587afc3b8cd44701856",
       "version_major": 2,
       "version_minor": 0
      },
      "text/plain": [
       "  0%|          | 0/446 [00:00<?, ?it/s]"
      ]
     },
     "metadata": {},
     "output_type": "display_data"
    }
   ],
   "source": [
    "import matplotlib.pyplot as plt\n",
    "import numpy as np\n",
    "import imglib\n",
    "img = plt.imread(\"/home/basta/Projects/vrgineers/RAW/cockpit-dark_left_small.png\")\n",
    "# plt.plot(img[0, ::2])\n",
    "freq = np.fft.fft(img[0, ::2])\n",
    "img3c = imglib.mono_to_3c(img)\n",
    "imglib.interpolate_greens(img3c)"
   ]
  },
  {
   "cell_type": "code",
   "execution_count": 2,
   "id": "cef51f048451cee2",
   "metadata": {
    "ExecuteTime": {
     "end_time": "2023-09-22T14:21:55.160777082Z",
     "start_time": "2023-09-22T14:21:55.156644583Z"
    }
   },
   "outputs": [
    {
     "data": {
      "text/plain": [
       "array([[[0.02745098, 0.        , 0.        ],\n",
       "        [0.        , 0.03137255, 0.        ],\n",
       "        [0.02745098, 0.        , 0.        ],\n",
       "        ...,\n",
       "        [0.02745098, 0.        , 0.        ],\n",
       "        [0.        , 0.03529412, 0.        ],\n",
       "        [0.02745098, 0.        , 0.        ]],\n",
       "\n",
       "       [[0.        , 0.03529412, 0.        ],\n",
       "        [0.        , 0.03039216, 0.03137255],\n",
       "        [0.        , 0.02745098, 0.        ],\n",
       "        ...,\n",
       "        [0.        , 0.03529412, 0.        ],\n",
       "        [0.        , 0.03529412, 0.03137255],\n",
       "        [0.        , 0.03921569, 0.        ]],\n",
       "\n",
       "       [[0.03137255, 0.        , 0.        ],\n",
       "        [0.        , 0.02745098, 0.        ],\n",
       "        [0.02745098, 0.03039216, 0.        ],\n",
       "        ...,\n",
       "        [0.03137255, 0.03627451, 0.        ],\n",
       "        [0.        , 0.03137255, 0.        ],\n",
       "        [0.03137255, 0.        , 0.        ]],\n",
       "\n",
       "       ...,\n",
       "\n",
       "       [[0.        , 0.03529412, 0.        ],\n",
       "        [0.        , 0.03137255, 0.03137255],\n",
       "        [0.        , 0.03137255, 0.        ],\n",
       "        ...,\n",
       "        [0.        , 0.03137255, 0.        ],\n",
       "        [0.        , 0.03039216, 0.02745098],\n",
       "        [0.        , 0.03137255, 0.        ]],\n",
       "\n",
       "       [[0.03137255, 0.        , 0.        ],\n",
       "        [0.        , 0.03137255, 0.        ],\n",
       "        [0.03137255, 0.03137255, 0.        ],\n",
       "        ...,\n",
       "        [0.03137255, 0.02941177, 0.        ],\n",
       "        [0.        , 0.02745098, 0.        ],\n",
       "        [0.02745098, 0.        , 0.        ]],\n",
       "\n",
       "       [[0.        , 0.03137255, 0.        ],\n",
       "        [0.        , 0.        , 0.02745098],\n",
       "        [0.        , 0.03137255, 0.        ],\n",
       "        ...,\n",
       "        [0.        , 0.03137255, 0.        ],\n",
       "        [0.        , 0.        , 0.02745098],\n",
       "        [0.        , 0.03529412, 0.        ]]], dtype=float32)"
      ]
     },
     "execution_count": 2,
     "metadata": {},
     "output_type": "execute_result"
    }
   ],
   "source": [
    "img3c"
   ]
  },
  {
   "cell_type": "code",
   "execution_count": 48,
   "id": "2cc976c75e766f1d",
   "metadata": {
    "ExecuteTime": {
     "end_time": "2023-09-22T13:58:48.384749605Z",
     "start_time": "2023-09-22T13:58:48.343209664Z"
    }
   },
   "outputs": [
    {
     "data": {
      "text/plain": [
       "array([[[1, 0, 0],\n",
       "        [2, 0, 0],\n",
       "        [3, 0, 0]],\n",
       "\n",
       "       [[1, 0, 0],\n",
       "        [2, 0, 0],\n",
       "        [3, 0, 0]]])"
      ]
     },
     "execution_count": 48,
     "metadata": {},
     "output_type": "execute_result"
    }
   ],
   "source": [
    "arr = np.array([[1, 2, 3], [1, 2, 3]])\n",
    "earr = np.expand_dims(arr, 2)\n",
    "np.pad(earr, [[0, 0], [0, 0], [0, 2]] )"
   ]
  }
 ],
 "metadata": {
  "kernelspec": {
   "display_name": "Python 3 (ipykernel)",
   "language": "python",
   "name": "python3"
  },
  "language_info": {
   "codemirror_mode": {
    "name": "ipython",
    "version": 3
   },
   "file_extension": ".py",
   "mimetype": "text/x-python",
   "name": "python",
   "nbconvert_exporter": "python",
   "pygments_lexer": "ipython3",
   "version": "3.10.13"
  }
 },
 "nbformat": 4,
 "nbformat_minor": 5
}
